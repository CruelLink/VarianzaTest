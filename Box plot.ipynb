{
 "cells": [
  {
   "cell_type": "markdown",
   "id": "900ea98a-e621-4fdc-9e72-5759a87701c3",
   "metadata": {},
   "source": [
    "# UNAH\n",
    "## Facultad de Ingenieria\n",
    "## Carrera de Ingenieria en sistemas\n",
    "### Clase: Inteligencia Artificial\n",
    "\n",
    "*Prueba*"
   ]
  },
  {
   "cell_type": "markdown",
   "id": "63c2d2f3-4ddf-4015-8a1c-9065f3d8d0f3",
   "metadata": {},
   "source": [
    "Sara Isabel Domínguez Cardona 20161005072"
   ]
  },
  {
   "cell_type": "code",
   "execution_count": 1,
   "id": "d89d7223-d7bc-4a2f-b8e2-7777b3abbbc9",
   "metadata": {},
   "outputs": [],
   "source": [
    "import pandas as pd\n",
    "import numpy as np\n",
    "import matplotlib.pyplot as plt"
   ]
  },
  {
   "cell_type": "markdown",
   "id": "a6101627-a1bb-41ae-9a9c-6597e20ed26b",
   "metadata": {},
   "source": [
    "Segun el siguiente Dataset:"
   ]
  },
  {
   "cell_type": "code",
   "execution_count": 2,
   "id": "129c774e-4da0-4b46-918a-19e51df03fe3",
   "metadata": {},
   "outputs": [],
   "source": [
    "pd_vector = pd.DataFrame( { \"num\" : range(1,101) } )"
   ]
  },
  {
   "cell_type": "code",
   "execution_count": 3,
   "id": "48d3c5b7-be61-4c2f-ada7-d9766b5d82db",
   "metadata": {},
   "outputs": [
    {
     "data": {
      "text/html": [
       "<div>\n",
       "<style scoped>\n",
       "    .dataframe tbody tr th:only-of-type {\n",
       "        vertical-align: middle;\n",
       "    }\n",
       "\n",
       "    .dataframe tbody tr th {\n",
       "        vertical-align: top;\n",
       "    }\n",
       "\n",
       "    .dataframe thead th {\n",
       "        text-align: right;\n",
       "    }\n",
       "</style>\n",
       "<table border=\"1\" class=\"dataframe\">\n",
       "  <thead>\n",
       "    <tr style=\"text-align: right;\">\n",
       "      <th></th>\n",
       "      <th>num</th>\n",
       "    </tr>\n",
       "  </thead>\n",
       "  <tbody>\n",
       "    <tr>\n",
       "      <th>0</th>\n",
       "      <td>1</td>\n",
       "    </tr>\n",
       "    <tr>\n",
       "      <th>1</th>\n",
       "      <td>2</td>\n",
       "    </tr>\n",
       "    <tr>\n",
       "      <th>2</th>\n",
       "      <td>3</td>\n",
       "    </tr>\n",
       "    <tr>\n",
       "      <th>3</th>\n",
       "      <td>4</td>\n",
       "    </tr>\n",
       "    <tr>\n",
       "      <th>4</th>\n",
       "      <td>5</td>\n",
       "    </tr>\n",
       "    <tr>\n",
       "      <th>...</th>\n",
       "      <td>...</td>\n",
       "    </tr>\n",
       "    <tr>\n",
       "      <th>95</th>\n",
       "      <td>96</td>\n",
       "    </tr>\n",
       "    <tr>\n",
       "      <th>96</th>\n",
       "      <td>97</td>\n",
       "    </tr>\n",
       "    <tr>\n",
       "      <th>97</th>\n",
       "      <td>98</td>\n",
       "    </tr>\n",
       "    <tr>\n",
       "      <th>98</th>\n",
       "      <td>99</td>\n",
       "    </tr>\n",
       "    <tr>\n",
       "      <th>99</th>\n",
       "      <td>100</td>\n",
       "    </tr>\n",
       "  </tbody>\n",
       "</table>\n",
       "<p>100 rows × 1 columns</p>\n",
       "</div>"
      ],
      "text/plain": [
       "    num\n",
       "0     1\n",
       "1     2\n",
       "2     3\n",
       "3     4\n",
       "4     5\n",
       "..  ...\n",
       "95   96\n",
       "96   97\n",
       "97   98\n",
       "98   99\n",
       "99  100\n",
       "\n",
       "[100 rows x 1 columns]"
      ]
     },
     "execution_count": 3,
     "metadata": {},
     "output_type": "execute_result"
    }
   ],
   "source": [
    "pd_vector"
   ]
  },
  {
   "cell_type": "markdown",
   "id": "68d2dfb1-9c1f-4116-89c5-05e2171c7018",
   "metadata": {},
   "source": [
    "Y segun los siguientes metodos de numpy"
   ]
  },
  {
   "cell_type": "code",
   "execution_count": 4,
   "id": "81d3dd14-6205-421a-9cf9-031027c6a213",
   "metadata": {},
   "outputs": [
    {
     "data": {
      "text/plain": [
       "833.25"
      ]
     },
     "execution_count": 4,
     "metadata": {},
     "output_type": "execute_result"
    }
   ],
   "source": [
    "np.var( pd_vector[\"num\"] ) ## Calcula la varianza"
   ]
  },
  {
   "cell_type": "code",
   "execution_count": 5,
   "id": "4b17ddd3-044d-4328-9f34-03bde615cc7a",
   "metadata": {},
   "outputs": [
    {
     "data": {
      "text/plain": [
       "28.86607004772212"
      ]
     },
     "execution_count": 5,
     "metadata": {},
     "output_type": "execute_result"
    }
   ],
   "source": [
    "np.std( pd_vector[\"num\"] ) ## Calcula la desviacion estandard"
   ]
  },
  {
   "cell_type": "markdown",
   "id": "b0db84f8-c351-41db-b981-336b6738b19b",
   "metadata": {},
   "source": [
    "## Responda las siguientes ejercicios"
   ]
  },
  {
   "cell_type": "markdown",
   "id": "5d99d524-4a87-4fbf-a2b8-436a6cb4ddcd",
   "metadata": {},
   "source": [
    "1. Grafique el Boxplot del vector \"num\""
   ]
  },
  {
   "cell_type": "code",
   "execution_count": 6,
   "id": "f36238bb-56d3-4bdb-9108-bb652a2c2f9c",
   "metadata": {},
   "outputs": [
    {
     "data": {
      "image/png": "[encoded data removed]",
      "text/plain": [
       "<Figure size 432x288 with 1 Axes>"
      ]
     },
     "metadata": {
      "needs_background": "light"
     },
     "output_type": "display_data"
    }
   ],
   "source": [
    "boxplot = pd_vector.boxplot(column=[\"num\"])\n",
    "boxplot.plot()\n",
    "\n",
    "plt.show()"
   ]
  },
  {
   "cell_type": "markdown",
   "id": "c3011ce8-15f1-4b3b-b7ab-44172bf7c8a2",
   "metadata": {},
   "source": [
    "2. Calcule la varianza y desviacion estandard de cada uno de los quartiles\n",
    "\n",
    "Nota: realice manual la divicion del dataset para obtener cada uno de quartiles, al final obtendra cuatro dataframes"
   ]
  },
  {
   "cell_type": "code",
   "execution_count": 54,
   "id": "8b18a52f-71b7-4760-81c3-7728e69613ce",
   "metadata": {},
   "outputs": [
    {
     "name": "stdout",
     "output_type": "stream",
     "text": [
      "Q1 25.75\n",
      "Q2 50.5\n",
      "Q3 75.25\n",
      "Q4 100.0\n"
     ]
    }
   ],
   "source": [
    "pd_vector[\"num\"].quantile()\n",
    "q1,q2,q3,q4 = pd_vector[\"num\"].quantile([0.25,0.50,0.75,1])\n",
    "print(\"Q1\",q1)\n",
    "print(\"Q2\",q2)\n",
    "print(\"Q3\",q3)\n",
    "print(\"Q4\",q4)\n"
   ]
  },
  {
   "cell_type": "code",
   "execution_count": 53,
   "id": "744ff29b-91c8-4dd2-9b1e-dca3e0ce246e",
   "metadata": {},
   "outputs": [
    {
     "name": "stdout",
     "output_type": "stream",
     "text": [
      "Quartile 1 \n",
      "     num\n",
      "0     1\n",
      "1     2\n",
      "2     3\n",
      "3     4\n",
      "4     5\n",
      "5     6\n",
      "6     7\n",
      "7     8\n",
      "8     9\n",
      "9    10\n",
      "10   11\n",
      "11   12\n",
      "12   13\n",
      "13   14\n",
      "14   15\n",
      "15   16\n",
      "16   17\n",
      "17   18\n",
      "18   19\n",
      "19   20\n",
      "20   21\n",
      "21   22\n",
      "22   23\n",
      "23   24\n",
      "24   25 \n",
      "\n",
      "Quartile 2 \n",
      "     num\n",
      "25   26\n",
      "26   27\n",
      "27   28\n",
      "28   29\n",
      "29   30\n",
      "30   31\n",
      "31   32\n",
      "32   33\n",
      "33   34\n",
      "34   35\n",
      "35   36\n",
      "36   37\n",
      "37   38\n",
      "38   39\n",
      "39   40\n",
      "40   41\n",
      "41   42\n",
      "42   43\n",
      "43   44\n",
      "44   45\n",
      "45   46\n",
      "46   47\n",
      "47   48\n",
      "48   49\n",
      "49   50 \n",
      "\n",
      "Quartile 3 \n",
      "     num\n",
      "50   51\n",
      "51   52\n",
      "52   53\n",
      "53   54\n",
      "54   55\n",
      "55   56\n",
      "56   57\n",
      "57   58\n",
      "58   59\n",
      "59   60\n",
      "60   61\n",
      "61   62\n",
      "62   63\n",
      "63   64\n",
      "64   65\n",
      "65   66\n",
      "66   67\n",
      "67   68\n",
      "68   69\n",
      "69   70\n",
      "70   71\n",
      "71   72\n",
      "72   73\n",
      "73   74\n",
      "74   75 \n",
      "\n",
      "Quartile 4 \n",
      "     num\n",
      "75   76\n",
      "76   77\n",
      "77   78\n",
      "78   79\n",
      "79   80\n",
      "80   81\n",
      "81   82\n",
      "82   83\n",
      "83   84\n",
      "84   85\n",
      "85   86\n",
      "86   87\n",
      "87   88\n",
      "88   89\n",
      "89   90\n",
      "90   91\n",
      "91   92\n",
      "92   93\n",
      "93   94\n",
      "94   95\n",
      "95   96\n",
      "96   97\n",
      "97   98\n",
      "98   99\n",
      "99  100 \n",
      "\n"
     ]
    }
   ],
   "source": [
    "Q1 = pd_vector.iloc[0:25, :]\n",
    "Q2 = pd_vector.iloc[25:50, :]\n",
    "Q3 = pd_vector.iloc[50:75, :]\n",
    "Q4 = pd_vector.iloc[75:100, :]\n",
    "print(\"Quartile 1\",\"\\n\",Q1,\"\\n\")\n",
    "print(\"Quartile 2\",\"\\n\",Q2,\"\\n\")\n",
    "print(\"Quartile 3\",\"\\n\",Q3,\"\\n\")\n",
    "print(\"Quartile 4\",\"\\n\",Q4,\"\\n\")"
   ]
  },
  {
   "cell_type": "code",
   "execution_count": 41,
   "id": "811e33c7-8472-40ed-bff4-a61f97b8c474",
   "metadata": {},
   "outputs": [
    {
     "data": {
      "text/plain": [
       "52.0"
      ]
     },
     "execution_count": 41,
     "metadata": {},
     "output_type": "execute_result"
    }
   ],
   "source": [
    "np.var( Q1 [\"num\"] ) #Cálculo varianza del 1er Quartile"
   ]
  },
  {
   "cell_type": "code",
   "execution_count": 42,
   "id": "b84fe34a-cdf6-4b69-9402-89947dc544c1",
   "metadata": {},
   "outputs": [
    {
     "data": {
      "text/plain": [
       "7.211102550927978"
      ]
     },
     "execution_count": 42,
     "metadata": {},
     "output_type": "execute_result"
    }
   ],
   "source": [
    "np.std( Q1 [\"num\"] ) #Cálculo desviación estándar del 1er Quartile"
   ]
  },
  {
   "cell_type": "code",
   "execution_count": 43,
   "id": "a9e45b45-1de3-4346-9223-73d298ce1a44",
   "metadata": {},
   "outputs": [
    {
     "data": {
      "text/plain": [
       "52.0"
      ]
     },
     "execution_count": 43,
     "metadata": {},
     "output_type": "execute_result"
    }
   ],
   "source": [
    "np.var( Q2 [\"num\"] ) #Cálculo varianza del 2do Quartile"
   ]
  },
  {
   "cell_type": "code",
   "execution_count": 44,
   "id": "c739d486-6619-4ca3-a42f-80bdead545fa",
   "metadata": {},
   "outputs": [
    {
     "data": {
      "text/plain": [
       "7.211102550927978"
      ]
     },
     "execution_count": 44,
     "metadata": {},
     "output_type": "execute_result"
    }
   ],
   "source": [
    "np.std( Q2 [\"num\"] ) #Cálculo desviación estándar del 2do Quartile"
   ]
  },
  {
   "cell_type": "code",
   "execution_count": 45,
   "id": "9a9bfdc3-be05-4ef0-84a8-6d67d63ba99f",
   "metadata": {},
   "outputs": [
    {
     "data": {
      "text/plain": [
       "52.0"
      ]
     },
     "execution_count": 45,
     "metadata": {},
     "output_type": "execute_result"
    }
   ],
   "source": [
    "np.var( Q3 [\"num\"] ) #Cálculo varianza del 3er Quartile"
   ]
  },
  {
   "cell_type": "code",
   "execution_count": 46,
   "id": "3e1ca144-953d-4b39-a5d7-cd7d5d9a429d",
   "metadata": {},
   "outputs": [
    {
     "data": {
      "text/plain": [
       "7.211102550927978"
      ]
     },
     "execution_count": 46,
     "metadata": {},
     "output_type": "execute_result"
    }
   ],
   "source": [
    "np.std( Q3 [\"num\"] ) #Cálculo desviación estándar del 3er Quartile"
   ]
  },
  {
   "cell_type": "code",
   "execution_count": 50,
   "id": "5489fb64-e8f2-4349-b6ad-58d1fe39615d",
   "metadata": {},
   "outputs": [
    {
     "data": {
      "text/plain": [
       "52.0"
      ]
     },
     "execution_count": 50,
     "metadata": {},
     "output_type": "execute_result"
    }
   ],
   "source": [
    "np.var( Q4 [\"num\"] ) #Cálculo varianza del 4to Quartile"
   ]
  },
  {
   "cell_type": "code",
   "execution_count": 51,
   "id": "bc89be14-e394-4d7d-9d0c-926fb215ce7d",
   "metadata": {},
   "outputs": [
    {
     "data": {
      "text/plain": [
       "7.211102550927978"
      ]
     },
     "execution_count": 51,
     "metadata": {},
     "output_type": "execute_result"
    }
   ],
   "source": [
    "np.std( Q4 [\"num\"] ) #Cálculo desviación estándar del 4to Quartile"
   ]
  },
  {
   "cell_type": "markdown",
   "id": "b1aac673-aa4f-40c4-8ae2-364247dcaad1",
   "metadata": {},
   "source": [
    "3. Explique la respuesta que obtuvo en el ejercicio dos, recuerde que se puede apoyar del grafico del ejercicio uno para hacer referencias sobre distribucion en caso de que sea necesario."
   ]
  },
  {
   "cell_type": "markdown",
   "id": "c7ddba72-3ded-4a37-b192-dfd78e59b4f8",
   "metadata": {},
   "source": [
    "Los datos están distribuidos equitativamente respecto a la media aritmética, según nuestra desviación estándar podemos indicar que en cada cuartil los datos no son totalmente iguales ya que es de 7.2111 y no cero."
   ]
  },
  {
   "cell_type": "code",
   "execution_count": null,
   "id": "da0db4a3-8f7b-401d-a78d-bf045a21e72f",
   "metadata": {},
   "outputs": [],
   "source": []
  }
 ],
 "metadata": {
  "kernelspec": {
   "display_name": "Python 3 (ipykernel)",
   "language": "python",
   "name": "python3"
  },
  "language_info": {
   "codemirror_mode": {
    "name": "ipython",
    "version": 3
   },
   "file_extension": ".py",
   "mimetype": "text/x-python",
   "name": "python",
   "nbconvert_exporter": "python",
   "pygments_lexer": "ipython3",
   "version": "3.9.7"
  }
 },
 "nbformat": 4,
 "nbformat_minor": 5
}
